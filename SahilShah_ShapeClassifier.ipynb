{
  "nbformat": 4,
  "nbformat_minor": 0,
  "metadata": {
    "colab": {
      "name": "SahilShah_ShapeClassifier.ipynb",
      "provenance": [],
      "authorship_tag": "ABX9TyPMIh2VqlkgvtOLWsvy0jXg"
    },
    "kernelspec": {
      "name": "python3",
      "display_name": "Python 3"
    },
    "language_info": {
      "name": "python"
    }
  },
  "cells": [
    {
      "cell_type": "code",
      "execution_count": null,
      "metadata": {
        "id": "DhyLYo7YaL4g"
      },
      "outputs": [],
      "source": [
        "import tensorflow as tf\n",
        "from keras.preprocessing.image import ImageDataGenerator"
      ]
    },
    {
      "cell_type": "markdown",
      "source": [
        "Part 1: **DATA PREPROCESSING**"
      ],
      "metadata": {
        "id": "AMpkaZEie982"
      }
    },
    {
      "cell_type": "markdown",
      "source": [
        "Preprocessing the Training set"
      ],
      "metadata": {
        "id": "z0B39m0sfVRV"
      }
    },
    {
      "cell_type": "code",
      "source": [
        "from google.colab import drive\n",
        "drive.mount('/content/drive')"
      ],
      "metadata": {
        "colab": {
          "base_uri": "https://localhost:8080/"
        },
        "id": "1gixNnFefxWy",
        "outputId": "791a5018-39b9-4695-bc71-36a2ba6edd63"
      },
      "execution_count": null,
      "outputs": [
        {
          "output_type": "stream",
          "name": "stdout",
          "text": [
            "Mounted at /content/drive\n"
          ]
        }
      ]
    },
    {
      "cell_type": "code",
      "source": [
        "train_datagen = ImageDataGenerator(\n",
        "    rescale = 1./255,\n",
        "    shear_range = 0.2,\n",
        "    zoom_range = 0.2,\n",
        "    horizontal_flip=True)\n",
        "training_set = train_datagen.flow_from_directory(\n",
        "    'drive/My Drive/ConstemsAI_Assignment/toy_train/',\n",
        "    target_size = (64, 64),\n",
        "    batch_size=32,\n",
        "    class_mode='binary')"
      ],
      "metadata": {
        "colab": {
          "base_uri": "https://localhost:8080/"
        },
        "id": "a7q53T7hfZIc",
        "outputId": "113adceb-7a75-4ba1-b283-9f2ad03b9d7e"
      },
      "execution_count": null,
      "outputs": [
        {
          "output_type": "stream",
          "name": "stdout",
          "text": [
            "Found 1000 images belonging to 2 classes.\n"
          ]
        }
      ]
    },
    {
      "cell_type": "markdown",
      "source": [
        "Preprocessing the Test set"
      ],
      "metadata": {
        "id": "6ET7OiDwvU7X"
      }
    },
    {
      "cell_type": "code",
      "source": [
        "test_datagen = ImageDataGenerator(rescale = 1./255)\n",
        "test_set = test_datagen.flow_from_directory(\n",
        "    'drive/My Drive/ConstemsAI_Assignment/toy_val/',\n",
        "    target_size = (64, 64),\n",
        "    batch_size=32,\n",
        "    class_mode='binary')"
      ],
      "metadata": {
        "colab": {
          "base_uri": "https://localhost:8080/"
        },
        "id": "i1aPowSzvY8O",
        "outputId": "848b66c1-c36f-4f4e-cc6d-d3b0c0590700"
      },
      "execution_count": null,
      "outputs": [
        {
          "output_type": "stream",
          "name": "stdout",
          "text": [
            "Found 200 images belonging to 2 classes.\n"
          ]
        }
      ]
    },
    {
      "cell_type": "markdown",
      "source": [
        "Part 2: **BUILDING THE CNN**"
      ],
      "metadata": {
        "id": "BNZvmItP_7SX"
      }
    },
    {
      "cell_type": "code",
      "source": [
        "cnn = tf.keras.models.Sequential()"
      ],
      "metadata": {
        "id": "qMhfDg04Dco8"
      },
      "execution_count": null,
      "outputs": []
    },
    {
      "cell_type": "markdown",
      "source": [
        "Step 1: Convolution"
      ],
      "metadata": {
        "id": "Zij0eLVfDzlB"
      }
    },
    {
      "cell_type": "code",
      "source": [
        "cnn.add(tf.keras.layers.Conv2D(filters = 32, kernel_size = 3, activation = 'relu', input_shape = [64, 64, 3]))"
      ],
      "metadata": {
        "id": "dqv39aJND2fd"
      },
      "execution_count": null,
      "outputs": []
    },
    {
      "cell_type": "markdown",
      "source": [
        "Step 2: Pooling"
      ],
      "metadata": {
        "id": "UfGQhX0QFS8Q"
      }
    },
    {
      "cell_type": "code",
      "source": [
        "cnn.add(tf.keras.layers.MaxPool2D(pool_size = 2, strides = 2))"
      ],
      "metadata": {
        "id": "4tH4Nc-tFVGL"
      },
      "execution_count": null,
      "outputs": []
    },
    {
      "cell_type": "markdown",
      "source": [
        "\n",
        "Adding second Convolution Layer"
      ],
      "metadata": {
        "id": "MzIEfcsoDNIg"
      }
    },
    {
      "cell_type": "code",
      "source": [
        "cnn.add(tf.keras.layers.Conv2D(filters = 32, kernel_size = 3, activation = 'relu'))\n",
        "cnn.add(tf.keras.layers.MaxPool2D(pool_size = 2, strides = 2))"
      ],
      "metadata": {
        "id": "gbALnZm-DRhb"
      },
      "execution_count": null,
      "outputs": []
    },
    {
      "cell_type": "markdown",
      "source": [
        "Step 3: Flattening"
      ],
      "metadata": {
        "id": "uUv7ItJTD3-K"
      }
    },
    {
      "cell_type": "code",
      "source": [
        "cnn.add(tf.keras.layers.Flatten())"
      ],
      "metadata": {
        "id": "9FpgEi8ID8QD"
      },
      "execution_count": null,
      "outputs": []
    },
    {
      "cell_type": "markdown",
      "source": [
        "Step 4: Full Connection"
      ],
      "metadata": {
        "id": "Zp0x3EwME-QL"
      }
    },
    {
      "cell_type": "code",
      "source": [
        "cnn.add(tf.keras.layers.Dense(units = 128, activation = 'relu'))"
      ],
      "metadata": {
        "id": "5xFms2MfFAvd"
      },
      "execution_count": null,
      "outputs": []
    },
    {
      "cell_type": "markdown",
      "source": [
        "Step 5: Output Layer"
      ],
      "metadata": {
        "id": "JhQvjARjFW6P"
      }
    },
    {
      "cell_type": "code",
      "source": [
        "cnn.add(tf.keras.layers.Dense(units = 1, activation = 'sigmoid'))"
      ],
      "metadata": {
        "id": "TPelJLQtFcOu"
      },
      "execution_count": null,
      "outputs": []
    },
    {
      "cell_type": "markdown",
      "source": [
        "PART 3: **TRAINING THE CNN**"
      ],
      "metadata": {
        "id": "Qz1nfesTFwMl"
      }
    },
    {
      "cell_type": "markdown",
      "source": [
        "Compiling the CNN"
      ],
      "metadata": {
        "id": "_UMx27udGmvJ"
      }
    },
    {
      "cell_type": "code",
      "source": [
        "cnn.compile(optimizer = 'adam', loss = 'binary_crossentropy', metrics = ['accuracy'])"
      ],
      "metadata": {
        "id": "0gEvTE1fGpWf"
      },
      "execution_count": null,
      "outputs": []
    },
    {
      "cell_type": "markdown",
      "source": [
        "Traning the CNN on Training set and evaluating on the Test set\n",
        "\n",
        "\n",
        "\n"
      ],
      "metadata": {
        "id": "Xe9rfnDkHHBH"
      }
    },
    {
      "cell_type": "code",
      "source": [
        "cnn.fit(x = training_set, validation_data = test_set, epochs = 25)"
      ],
      "metadata": {
        "colab": {
          "base_uri": "https://localhost:8080/"
        },
        "id": "ho_xSDX5HM05",
        "outputId": "dc2f40cc-7228-4d9b-a4b0-ca194326cd2f"
      },
      "execution_count": null,
      "outputs": [
        {
          "output_type": "stream",
          "name": "stdout",
          "text": [
            "Epoch 1/25\n",
            "32/32 [==============================] - 645s 20s/step - loss: 0.6637 - accuracy: 0.6800 - val_loss: 0.5224 - val_accuracy: 0.7800\n",
            "Epoch 2/25\n",
            "32/32 [==============================] - 7s 222ms/step - loss: 0.4325 - accuracy: 0.8200 - val_loss: 0.3386 - val_accuracy: 0.8600\n",
            "Epoch 3/25\n",
            "32/32 [==============================] - 7s 224ms/step - loss: 0.3659 - accuracy: 0.8310 - val_loss: 0.3577 - val_accuracy: 0.8700\n",
            "Epoch 4/25\n",
            "32/32 [==============================] - 7s 223ms/step - loss: 0.3382 - accuracy: 0.8430 - val_loss: 0.3160 - val_accuracy: 0.8800\n",
            "Epoch 5/25\n",
            "32/32 [==============================] - 8s 247ms/step - loss: 0.3077 - accuracy: 0.8720 - val_loss: 0.2540 - val_accuracy: 0.9200\n",
            "Epoch 6/25\n",
            "32/32 [==============================] - 8s 235ms/step - loss: 0.3129 - accuracy: 0.8570 - val_loss: 0.3604 - val_accuracy: 0.7900\n",
            "Epoch 7/25\n",
            "32/32 [==============================] - 7s 231ms/step - loss: 0.2661 - accuracy: 0.8800 - val_loss: 0.1992 - val_accuracy: 0.9650\n",
            "Epoch 8/25\n",
            "32/32 [==============================] - 8s 235ms/step - loss: 0.2047 - accuracy: 0.9240 - val_loss: 0.1090 - val_accuracy: 0.9800\n",
            "Epoch 9/25\n",
            "32/32 [==============================] - 7s 229ms/step - loss: 0.1140 - accuracy: 0.9700 - val_loss: 0.0734 - val_accuracy: 0.9950\n",
            "Epoch 10/25\n",
            "32/32 [==============================] - 7s 225ms/step - loss: 0.0641 - accuracy: 0.9840 - val_loss: 0.0476 - val_accuracy: 1.0000\n",
            "Epoch 11/25\n",
            "32/32 [==============================] - 7s 229ms/step - loss: 0.0359 - accuracy: 0.9910 - val_loss: 0.0630 - val_accuracy: 1.0000\n",
            "Epoch 12/25\n",
            "32/32 [==============================] - 8s 233ms/step - loss: 0.0309 - accuracy: 0.9950 - val_loss: 0.0336 - val_accuracy: 1.0000\n",
            "Epoch 13/25\n",
            "32/32 [==============================] - 7s 224ms/step - loss: 0.0170 - accuracy: 0.9960 - val_loss: 0.0069 - val_accuracy: 1.0000\n",
            "Epoch 14/25\n",
            "32/32 [==============================] - 7s 226ms/step - loss: 0.0116 - accuracy: 1.0000 - val_loss: 0.0183 - val_accuracy: 1.0000\n",
            "Epoch 15/25\n",
            "32/32 [==============================] - 7s 224ms/step - loss: 0.0132 - accuracy: 0.9980 - val_loss: 0.0186 - val_accuracy: 1.0000\n",
            "Epoch 16/25\n",
            "32/32 [==============================] - 8s 233ms/step - loss: 0.0100 - accuracy: 0.9970 - val_loss: 0.0057 - val_accuracy: 1.0000\n",
            "Epoch 17/25\n",
            "32/32 [==============================] - 8s 242ms/step - loss: 0.0087 - accuracy: 1.0000 - val_loss: 0.0147 - val_accuracy: 1.0000\n",
            "Epoch 18/25\n",
            "32/32 [==============================] - 8s 245ms/step - loss: 0.0072 - accuracy: 1.0000 - val_loss: 0.0026 - val_accuracy: 1.0000\n",
            "Epoch 19/25\n",
            "32/32 [==============================] - 8s 247ms/step - loss: 0.0072 - accuracy: 1.0000 - val_loss: 0.0040 - val_accuracy: 1.0000\n",
            "Epoch 20/25\n",
            "32/32 [==============================] - 8s 234ms/step - loss: 0.0024 - accuracy: 1.0000 - val_loss: 0.0031 - val_accuracy: 1.0000\n",
            "Epoch 21/25\n",
            "32/32 [==============================] - 8s 236ms/step - loss: 0.0029 - accuracy: 1.0000 - val_loss: 0.0675 - val_accuracy: 0.9650\n",
            "Epoch 22/25\n",
            "32/32 [==============================] - 8s 233ms/step - loss: 0.0048 - accuracy: 1.0000 - val_loss: 0.0158 - val_accuracy: 1.0000\n",
            "Epoch 23/25\n",
            "32/32 [==============================] - 8s 254ms/step - loss: 0.0025 - accuracy: 1.0000 - val_loss: 0.0052 - val_accuracy: 1.0000\n",
            "Epoch 24/25\n",
            "32/32 [==============================] - 8s 239ms/step - loss: 0.0029 - accuracy: 0.9990 - val_loss: 0.0105 - val_accuracy: 1.0000\n",
            "Epoch 25/25\n",
            "32/32 [==============================] - 8s 238ms/step - loss: 0.0025 - accuracy: 1.0000 - val_loss: 0.0103 - val_accuracy: 1.0000\n"
          ]
        },
        {
          "output_type": "execute_result",
          "data": {
            "text/plain": [
              "<keras.callbacks.History at 0x7f0caa12f0d0>"
            ]
          },
          "metadata": {},
          "execution_count": 16
        }
      ]
    },
    {
      "cell_type": "markdown",
      "source": [
        "PART 4: **MAKING A SINGLE PREDICTION**"
      ],
      "metadata": {
        "id": "J1A1T5PFVdRO"
      }
    },
    {
      "cell_type": "code",
      "source": [
        "import numpy as np\n",
        "from keras.preprocessing import image\n",
        "test_image = image.load_img('drive/My Drive/ConstemsAI_Assignment/single_prediction/circle_or_rectangle4.jpg', target_size = (64,64))\n",
        "test_image = image.img_to_array(test_image)\n",
        "test_image = np.expand_dims(test_image, axis = 0)\n",
        "result = cnn.predict(test_image)\n",
        "training_set.class_indices\n",
        "if result[0][0] == 1:\n",
        "  prediction = 'rectangle'\n",
        "else:\n",
        "  prediction = 'circle'"
      ],
      "metadata": {
        "id": "-PuOhV0UVnZQ"
      },
      "execution_count": null,
      "outputs": []
    },
    {
      "cell_type": "code",
      "source": [
        "print(prediction)"
      ],
      "metadata": {
        "colab": {
          "base_uri": "https://localhost:8080/"
        },
        "id": "Odz-u2jXeDSR",
        "outputId": "0e24946c-f3be-48d8-ad6f-7a1198ef5654"
      },
      "execution_count": null,
      "outputs": [
        {
          "output_type": "stream",
          "name": "stdout",
          "text": [
            "rectangle\n"
          ]
        }
      ]
    }
  ]
}